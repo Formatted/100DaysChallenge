{
 "cells": [
  {
   "cell_type": "markdown",
   "metadata": {},
   "source": [
    "## Listas\n",
    "\n",
    "Listas em python representam uma seuqencia de valores em ordem, como por exemplo, representada entre clchetes e separdas por virgula:\n",
    "\n",
    "> primes = [2, 3, 5, 7]\n",
    "\n",
    "Pode-se colocar outros tipos dentro de listas:\n",
    "\n",
    "> planets = ['Mercury', 'Venus', 'Earth', 'Mars', 'Jupiter', 'Saturn', 'Uranus', 'Neptune']\n",
    "\n",
    "Podemos fazer lista de listas:\n",
    "\n",
    "> hands = [\n",
    ">     ['J', 'Q', 'K'],\n",
    ">     ['2', '2', '2'],\n",
    ">     ['6', 'A', 'K'], # (Comma after the last element is optional)\n",
    ">]\n",
    "\n",
    "Pode ser escrito também em uma linha mas dificulta a leitura:\n",
    "\n",
    "> hands = [['J', 'Q', 'K'], ['2', '2', '2'], ['6', 'A', 'K']]\n",
    "\n",
    "Em python a lista pode conter tipos de variáveis diferentes:\n",
    "\n",
    "> my_favourite_things = [32, 'raindrops on roses', help]\n",
    "\n",
    "## Indexação\n",
    "\n",
    "Pode-se acessar nas listas um leemento iindividual, colocando seu indice/index entre colchetes:\n",
    "You can access individual list elements with square brackets.\n",
    "\n",
    "No python o index, começão do zero, sendo esse o primeiro elemento.\n",
    "\n",
    "> planets[0]\n",
    "\n",
    "Os elementos ao final de uma lista, podem ser acessador a partir do -1, e reduzindo -2, -3...\n",
    "\n",
    "> planets[-1]\n",
    "\n",
    "## Repartindo\n",
    "\n"
   ]
  }
 ],
 "metadata": {
  "kernelspec": {
   "display_name": "Python 3",
   "language": "python",
   "name": "python3"
  },
  "language_info": {
   "codemirror_mode": {
    "name": "ipython",
    "version": 3
   },
   "file_extension": ".py",
   "mimetype": "text/x-python",
   "name": "python",
   "nbconvert_exporter": "python",
   "pygments_lexer": "ipython3",
   "version": "3.6.8"
  }
 },
 "nbformat": 4,
 "nbformat_minor": 2
}
